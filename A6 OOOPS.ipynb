{
 "cells": [
  {
   "cell_type": "markdown",
   "metadata": {},
   "source": [
    "Q1.\n",
    "ANSWER--\n",
    "Abstraction is one of the fundamental concepts of object-oriented programming (OOP). It refers to the process of hiding the internal implementation details of a class while showing only the necessary features or functionalities to the outside world."
   ]
  },
  {
   "cell_type": "code",
   "execution_count": null,
   "metadata": {},
   "outputs": [],
   "source": [
    "from abc import ABC, abstractmethod\n",
    "\n",
    "class Shape(ABC):\n",
    "    @abstractmethod\n",
    "    def area(self):\n",
    "        pass\n",
    "\n",
    "class Circle(Shape):\n",
    "    def __init__(self, radius):\n",
    "        self.radius = radius\n",
    "\n",
    "    def area(self):\n",
    "        return 3.14 * self.radius * self.radius\n",
    "\n",
    "class Rectangle(Shape):\n",
    "    def __init__(self, width, height):\n",
    "        self.width = width\n",
    "        self.height = height\n",
    "\n",
    "    def area(self):\n",
    "        return self.width * self.height\n",
    "\n",
    "# Creating instances of Circle and Rectangle\n",
    "circle = Circle(5)\n",
    "rectangle = Rectangle(4, 6)\n",
    "\n",
    "# Calling area method for both shapes\n",
    "print(\"Area of circle:\", circle.area())  # Output: Area of circle: 78.5\n",
    "print(\"Area of rectangle:\", rectangle.area())  # Output: Area of rectangle: 24\n"
   ]
  },
  {
   "cell_type": "markdown",
   "metadata": {},
   "source": [
    "Q2--\n",
    "ANSWER--"
   ]
  },
  {
   "cell_type": "markdown",
   "metadata": {},
   "source": [
    "Abstraction:\n",
    "\n",
    "Abstraction refers to the process of hiding the complex implementation details and showing only the essential features of an object.\n",
    "It focuses on what an object does, rather than how it achieves it.\n",
    "\n",
    "Encapsulation:\n",
    "\n",
    "Encapsulation refers to the bundling of data (attributes) and methods (functions) that operate on the data into a single unit or class.\n",
    "It involves hiding the internal state of an object from the outside world and allowing access only through well-defined interfaces (methods)."
   ]
  },
  {
   "cell_type": "code",
   "execution_count": null,
   "metadata": {},
   "outputs": [],
   "source": [
    "class Car:\n",
    "    def __init__(self, make, model):\n",
    "        self.make = make          # Encapsulation: Attributes are encapsulated within the Car class\n",
    "        self.model = model\n",
    "\n",
    "    def display_info(self):       # Abstraction: Provides a high-level interface to access car information\n",
    "        print(f\"Car: {self.make} {self.model}\")\n",
    "\n",
    "    def start_engine(self):       # Encapsulation: Method encapsulates the behavior of starting the engine\n",
    "        print(\"Engine started.\")\n",
    "\n",
    "# Creating an instance of Car\n",
    "my_car = Car(\"Toyota\", \"Camry\")\n",
    "\n",
    "# Accessing information using abstraction\n",
    "my_car.display_info()           # Output: Car: Toyota Camry\n",
    "\n",
    "# Performing an action using encapsulation\n",
    "my_car.start_engine()           # Output: Engine started.\n"
   ]
  },
  {
   "cell_type": "markdown",
   "metadata": {},
   "source": [
    "Q3--\n",
    "ANSWER--\n",
    "\n",
    "The abc module in Python stands for \"Abstract Base Classes.\" It provides a way to define abstract base classes in Python and is used for enforcing the implementation of certain methods in derived classes. Abstract base classes serve as blueprints for other classes and are meant to be subclassed rather than instantiated directl"
   ]
  },
  {
   "cell_type": "markdown",
   "metadata": {},
   "source": [
    "Q4--\n",
    "ANSWER--\n",
    "\n",
    "Data abstraction in Python can be achieved through the use of classes and objects, along with encapsulation and abstraction techniques. Here's how you can achieve data abstraction in Python:"
   ]
  },
  {
   "cell_type": "markdown",
   "metadata": {},
   "source": [
    "No, we cannot create an instance of an abstract class directly in Python. Abstract classes serve as blueprints for other classes and are meant to be subclassed rather than instantiated directly.\n",
    "\n",
    "Attempting to instantiate an abstract class directly will result in a TypeError. This is because abstract classes may contain abstract methods, which are meant to be implemented by concrete subclasses. "
   ]
  }
 ],
 "metadata": {
  "language_info": {
   "name": "python"
  }
 },
 "nbformat": 4,
 "nbformat_minor": 2
}

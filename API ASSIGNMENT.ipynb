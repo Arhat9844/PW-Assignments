{
 "cells": [
  {
   "cell_type": "markdown",
   "metadata": {},
   "source": [
    "Q1==\n",
    "ANSWER==\n",
    "An API (Application Programming Interface) is a set of rules and protocols that allows different software applications to communicate with each other. In real life, an example of API usage is when a weather application fetches data from a weather service's API to provide real-time weather updates to users.\n",
    "\n",
    "\n",
    "\n",
    "\n",
    "\n"
   ]
  },
  {
   "cell_type": "markdown",
   "metadata": {},
   "source": [
    "Q2==\n",
    "ANSWER==\n",
    "\n",
    "Advantages:\n",
    "\n",
    "Increased Efficiency: APIs enable rapid development by allowing developers to reuse existing functionalities.\n",
    "Enhanced Connectivity: APIs facilitate seamless integration between different software systems.\n",
    "Scalability: APIs support scalability by enabling modular architecture and distributed computing.\n",
    "Disadvantages:\n",
    "\n",
    "Dependency: Reliance on external APIs can lead to disruptions if the API changes or becomes unavailable.\n",
    "Security Risks: APIs can expose sensitive data and functionality, potentially leading to security vulnerabilities.\n",
    "Complexity: Integrating multiple APIs can increase complexity and maintenance overhead."
   ]
  },
  {
   "cell_type": "markdown",
   "metadata": {},
   "source": [
    "Q3==\n",
    "ANSWER==\n",
    "A Web API (Application Programming Interface) is an interface that allows communication between client and server over the internet, typically using HTTP protocols. It enables access to web-based services and resources. While APIs encompass various interfaces for software communication, Web APIs specifically facilitate interaction over the web, enabling access to web-based services and data."
   ]
  },
  {
   "cell_type": "markdown",
   "metadata": {},
   "source": [
    "Q4==\n",
    "ANSWER==\n",
    "REST (Representational State Transfer) is an architectural style for designing networked applications, emphasizing simplicity and scalability. It uses HTTP methods for communication and resources are identified by URIs.\n",
    "\n",
    "SOAP (Simple Object Access Protocol) is a protocol for exchanging structured information in a decentralized, distributed environment. It relies on XML for message format and offers robust error handling and security features.\n",
    "\n",
    "Shortcomings of SOAP:\n",
    "\n",
    "Complexity and verbosity due to XML-based messages.\n",
    "Performance overhead caused by larger message size.\n",
    "Tight coupling between client and server, hindering system evolution.\n",
    "Limited browser support, requiring additional libraries or plugins."
   ]
  },
  {
   "cell_type": "markdown",
   "metadata": {},
   "source": [
    "Q5==\n",
    "ANSWER==\n",
    "REST is lightweight, using HTTP for communication and resource-based URIs. SOAP is protocol-based, using XML messages, providing robustness but with complexity, larger message sizes, and tight coupling between client and server."
   ]
  },
  {
   "cell_type": "code",
   "execution_count": null,
   "metadata": {},
   "outputs": [],
   "source": []
  }
 ],
 "metadata": {
  "language_info": {
   "name": "python"
  }
 },
 "nbformat": 4,
 "nbformat_minor": 2
}

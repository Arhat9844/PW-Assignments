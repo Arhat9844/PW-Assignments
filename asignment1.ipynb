{
 "cells": [
  {
   "attachments": {},
   "cell_type": "markdown",
   "metadata": {},
   "source": [
    "Q1==\n",
    "ans=="
   ]
  },
  {
   "cell_type": "code",
   "execution_count": 8,
   "metadata": {},
   "outputs": [
    {
     "data": {
      "text/plain": [
       "list"
      ]
     },
     "execution_count": 8,
     "metadata": {},
     "output_type": "execute_result"
    }
   ],
   "source": [
    "# here we take only a variable \"A\" to asign the data types\n",
    "\n",
    "A=\"India\",1.2,[123,\"pw\",a],(1,2,\"string\",[])\n",
    "a=25\n",
    "type(A[2])"
   ]
  },
  {
   "attachments": {},
   "cell_type": "markdown",
   "metadata": {},
   "source": [
    "Q2==\n",
    "ans=="
   ]
  },
  {
   "cell_type": "code",
   "execution_count": 9,
   "metadata": {},
   "outputs": [
    {
     "data": {
      "text/plain": [
       "float"
      ]
     },
     "execution_count": 9,
     "metadata": {},
     "output_type": "execute_result"
    }
   ],
   "source": [
    "var=1.\n",
    "type(var)"
   ]
  },
  {
   "cell_type": "code",
   "execution_count": null,
   "metadata": {},
   "outputs": [],
   "source": [
    "var1 is string\n",
    "var2 is string\n",
    "var 3 is list\n",
    "var 4 is float"
   ]
  },
  {
   "attachments": {},
   "cell_type": "markdown",
   "metadata": {},
   "source": [
    "Q==3"
   ]
  },
  {
   "cell_type": "code",
   "execution_count": 18,
   "metadata": {},
   "outputs": [
    {
     "data": {
      "text/plain": [
       "2025"
      ]
     },
     "execution_count": 18,
     "metadata": {},
     "output_type": "execute_result"
    }
   ],
   "source": [
    "#1 /(backslash) is a arthematic operator that is used for devide operations\n",
    "a=2/2\n",
    "a\n",
    "#2 % modulus is also a arthematic operator used to get reminder after devide \n",
    "b=55\n",
    "b%4\n",
    "#3  // is also a arthematic operator used to get round off value after devide \n",
    "c=9\n",
    "c//2\n",
    "#4 ** is used for power \n",
    "d=45\n",
    "d**2"
   ]
  },
  {
   "attachments": {},
   "cell_type": "markdown",
   "metadata": {},
   "source": [
    "Q4 \n",
    "ans=="
   ]
  },
  {
   "cell_type": "code",
   "execution_count": 31,
   "metadata": {},
   "outputs": [
    {
     "name": "stdout",
     "output_type": "stream",
     "text": [
      "<class 'str'>\n",
      "<class 'int'>\n",
      "<class 'float'>\n",
      "<class 'str'>\n",
      "<class 'str'>\n",
      "<class 'str'>\n",
      "<class 'float'>\n",
      "<class 'str'>\n",
      "<class 'tuple'>\n",
      "<class 'str'>\n"
     ]
    }
   ],
   "source": [
    "list1=['arhat',10,1.2,(\"98\"),('grow'),\"India\",1.2,'[123,\"pw\",a]',(1,2,\"string\",[]),\"[arhat]\"]\n",
    "for i in list1:\n",
    "    print(type(i))"
   ]
  },
  {
   "attachments": {},
   "cell_type": "markdown",
   "metadata": {},
   "source": [
    "Q5\n",
    "ans=="
   ]
  },
  {
   "cell_type": "code",
   "execution_count": 33,
   "metadata": {},
   "outputs": [
    {
     "name": "stdout",
     "output_type": "stream",
     "text": [
      "A is purely divisible by B.\n",
      "It can be divided 16 times.\n"
     ]
    }
   ],
   "source": [
    "A = int(input(\"Enter the dividend (A): \"))\n",
    "B = int(input(\"Enter the divisor (B): \"))\n",
    "\n",
    "count = 0  # Counter for the number of divisions\n",
    "\n",
    "while A >= B:\n",
    "    A = A - B\n",
    "    count += 1\n",
    "\n",
    "if A == 0:\n",
    "    print(\"A is purely divisible by B.\")\n",
    "    print(\"It can be divided\", count, \"times.\")\n",
    "else:\n",
    "    print(\"A is not purely divisible by B.\")"
   ]
  },
  {
   "attachments": {},
   "cell_type": "markdown",
   "metadata": {},
   "source": [
    "Q6\n",
    "ans=="
   ]
  },
  {
   "cell_type": "code",
   "execution_count": 36,
   "metadata": {},
   "outputs": [
    {
     "name": "stdout",
     "output_type": "stream",
     "text": [
      "12 is divisible by 3.\n",
      "45 is divisible by 3.\n",
      "7 is not divisible by 3.\n",
      "18 is divisible by 3.\n",
      "21 is divisible by 3.\n",
      "36 is divisible by 3.\n",
      "9 is divisible by 3.\n",
      "8 is not divisible by 3.\n",
      "27 is divisible by 3.\n",
      "14 is not divisible by 3.\n",
      "33 is divisible by 3.\n",
      "22 is not divisible by 3.\n",
      "30 is divisible by 3.\n",
      "17 is not divisible by 3.\n",
      "6 is divisible by 3.\n",
      "39 is divisible by 3.\n",
      "4 is not divisible by 3.\n",
      "15 is divisible by 3.\n",
      "28 is not divisible by 3.\n",
      "11 is not divisible by 3.\n",
      "42 is divisible by 3.\n",
      "19 is not divisible by 3.\n",
      "5 is not divisible by 3.\n",
      "24 is divisible by 3.\n",
      "31 is not divisible by 3.\n"
     ]
    }
   ],
   "source": [
    "list2 = [12, 45, 7, 18, 21, 36, 9, 8, 27, 14, 33, 22, 30, 17, 6, 39, 4, 15, 28, 11, 42, 19, 5, 24, 31]\n",
    "\n",
    "for num in list2:\n",
    "    if num % 3 == 0:\n",
    "        print(num, \"is divisible by 3.\")\n",
    "    else:\n",
    "        print(num, \"is not divisible by 3.\")"
   ]
  },
  {
   "attachments": {},
   "cell_type": "markdown",
   "metadata": {},
   "source": [
    "Q7==1\n",
    "Immutable data types cannot be modified once they are created. If you want to change the value, you need to create a new object.\n",
    "Immutable Data Types:\n",
    "Integer: x = 10\n",
    "Float: y = 3.14\n",
    "String: name = \"Alice\"\n",
    "Tuple: my_tuple = (1, 2, 3)"
   ]
  },
  {
   "cell_type": "code",
   "execution_count": 41,
   "metadata": {},
   "outputs": [
    {
     "name": "stdout",
     "output_type": "stream",
     "text": [
      "10\n",
      "15\n"
     ]
    }
   ],
   "source": [
    "x = 10\n",
    "print(x)  # Output: 10\n",
    "\n",
    "x = x + 5\n",
    "print(x)  # Output: 15 (A new object is created with the updated value)"
   ]
  },
  {
   "attachments": {},
   "cell_type": "markdown",
   "metadata": {},
   "source": [
    "Mutable Data Types:\n",
    "Mutable data types can be modified after they are created. You can add, remove, or modify elements without creating a new object.\n",
    "List: my_list = [1, 2, 3]\n",
    "Dictionary: my_dict = {'a': 1, 'b': 2}\n",
    "Set: my_set = {1, 2, 3}"
   ]
  },
  {
   "cell_type": "code",
   "execution_count": 40,
   "metadata": {},
   "outputs": [
    {
     "name": "stdout",
     "output_type": "stream",
     "text": [
      "[1, 2, 3]\n",
      "[1, 2, 3, 4]\n"
     ]
    }
   ],
   "source": [
    "my_list = [1, 2, 3]\n",
    "print(my_list)  # Output: [1, 2, 3]\n",
    "\n",
    "my_list.append(4)\n",
    "print(my_list)  # Output: [1, 2, 3, 4] (The list is modified in-place)\n"
   ]
  }
 ],
 "metadata": {
  "kernelspec": {
   "display_name": "Python 3",
   "language": "python",
   "name": "python3"
  },
  "language_info": {
   "codemirror_mode": {
    "name": "ipython",
    "version": 3
   },
   "file_extension": ".py",
   "mimetype": "text/x-python",
   "name": "python",
   "nbconvert_exporter": "python",
   "pygments_lexer": "ipython3",
   "version": "3.10.4"
  },
  "orig_nbformat": 4,
  "vscode": {
   "interpreter": {
    "hash": "63963b3f4c440940f0b94a3100916033a226cb4f45979123153792d60aa56d6a"
   }
  }
 },
 "nbformat": 4,
 "nbformat_minor": 2
}

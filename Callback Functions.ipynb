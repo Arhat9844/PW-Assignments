{
 "cells": [
  {
   "cell_type": "markdown",
   "metadata": {},
   "source": [
    "Q1--Install and load the latest versions of TensorFlow and Keras. Print their versions.\n",
    "Answer-\n",
    "code==\n",
    "pip install tensorflow keras\n",
    "\n",
    "#Then, load and print their versions:\n",
    "\n",
    "import tensorflow as tf\n",
    "from tensorflow import keras\n",
    "\n",
    "print(\"TensorFlow version:\", tf.__version__)\n",
    "print(\"Keras version:\", keras.__version__)\n"
   ]
  },
  {
   "cell_type": "markdown",
   "metadata": {},
   "source": [
    "Q2-- Load the Wine Quality dataset and explore its dimensions.\n",
    "Answer-\n",
    "import pandas as pd\n",
    "\n",
    "# Load the dataset\n",
    "url = 'https://archive.ics.uci.edu/ml/machine-learning-databases/wine-quality/winequality-red.csv'\n",
    "data = pd.read_csv(url, sep=';')\n",
    "\n",
    "# Explore dimensions\n",
    "print(\"Dataset dimensions:\", data.shape)\n"
   ]
  },
  {
   "cell_type": "markdown",
   "metadata": {},
   "source": [
    "Q3. Check for null values, identify categorical variables, and encode them.\n",
    "\n",
    "Answer-\n",
    "# Check for null values\n",
    "print(\"Null values:\\n\", data.isnull().sum())\n",
    "\n",
    "# Identify categorical variables (assuming quality is the only categorical variable)\n",
    "print(\"Data types:\\n\", data.dtypes)\n",
    "\n",
    "# Encode the categorical variable if necessary (e.g., binary classification of wine quality)\n",
    "data['quality'] = data['quality'].apply(lambda x: 1 if x >= 7 else 0)\n"
   ]
  },
  {
   "cell_type": "markdown",
   "metadata": {},
   "source": [
    "Q4. Separate the features and target variables from the dataframe.\n",
    "\n",
    "Answer- \n",
    "# Separate features and target\n",
    "X = data.drop('quality', axis=1)\n",
    "y = data['quality']\n"
   ]
  },
  {
   "cell_type": "markdown",
   "metadata": {},
   "source": [
    "Q5. Perform a train-test split and divide the data into training, validation, and test datasets.\n",
    "--\n",
    "Answer-\n",
    "from sklearn.model_selection import train_test_split\n",
    "\n",
    "# Split the data\n",
    "X_train, X_temp, y_train, y_temp = train_test_split(X, y, test_size=0.3, random_state=42)\n",
    "X_val, X_test, y_val, y_test = train_test_split(X_temp, y_temp, test_size=0.5, random_state=42)\n",
    "\n"
   ]
  },
  {
   "cell_type": "markdown",
   "metadata": {},
   "source": [
    "Q6. Perform scaling on the dataset.\n",
    "--\n",
    "Answer-\n",
    "from sklearn.preprocessing import StandardScaler\n",
    "\n",
    "# Scale the data\n",
    "scaler = StandardScaler()\n",
    "X_train_scaled = scaler.fit_transform(X_train)\n",
    "X_val_scaled = scaler.transform(X_val)\n",
    "X_test_scaled = scaler.transform(X_test)\n"
   ]
  },
  {
   "cell_type": "markdown",
   "metadata": {},
   "source": [
    "Q7. Create at least 2 hidden layers and an output layer for the binary categorical variables.\n",
    "\n",
    "Answer-\n",
    "from tensorflow.keras.layers import Dense\n",
    "\n",
    "# Define the layers\n",
    "input_dim = X_train.shape[1]\n",
    "hidden_layer_1 = Dense(64, activation='relu', input_shape=(input_dim,))\n",
    "hidden_layer_2 = Dense(32, activation='relu')\n",
    "output_layer = Dense(1, activation='sigmoid')\n",
    "\n"
   ]
  },
  {
   "cell_type": "markdown",
   "metadata": {},
   "source": [
    "Q8. Create a Sequential model and add all the layers to it.\n",
    "\n",
    "Answer-\n",
    "from tensorflow.keras.models import Sequential\n",
    "\n",
    "# Create the model\n",
    "model = Sequential([\n",
    "    hidden_layer_1,\n",
    "    hidden_layer_2,\n",
    "    output_layer\n",
    "])\n",
    "\n"
   ]
  },
  {
   "cell_type": "markdown",
   "metadata": {},
   "source": [
    "Q9. Implement a TensorBoard callback to visualize and monitor the model's training process.\n",
    "\n",
    "Answer-\n",
    "from tensorflow.keras.callbacks import TensorBoard\n",
    "import datetime\n",
    "\n",
    "# TensorBoard callback\n",
    "log_dir = \"logs/fit/\" + datetime.datetime.now().strftime(\"%Y%m%d-%H%M%S\")\n",
    "tensorboard_callback = TensorBoard(log_dir=log_dir, histogram_freq=1)\n"
   ]
  },
  {
   "cell_type": "markdown",
   "metadata": {},
   "source": [
    "Q10. Use Early Stopping to prevent overfitting by monitoring a chosen metric and stopping the training if no improvement is observed.\n",
    "\n",
    "Answer-\n",
    "from tensorflow.keras.callbacks import EarlyStopping\n",
    "\n",
    "# Early Stopping callback\n",
    "early_stopping_callback = EarlyStopping(monitor='val_loss', patience=5, restore_best_weights=True)\n"
   ]
  },
  {
   "cell_type": "markdown",
   "metadata": {},
   "source": [
    "Q11. Implement a ModelCheckpoint callback to save the best model based on a chosen metric during training.\n",
    "\n",
    "Answer-\n",
    "from tensorflow.keras.callbacks import ModelCheckpoint\n",
    "\n",
    "# ModelCheckpoint callback\n",
    "checkpoint_callback = ModelCheckpoint(filepath='best_model.h5', monitor='val_loss', save_best_only=True)\n"
   ]
  },
  {
   "cell_type": "markdown",
   "metadata": {},
   "source": [
    "Q12. Print the model summary.\n",
    "Answer-\n",
    "# Print model summary\n",
    "model.summary()\n"
   ]
  },
  {
   "cell_type": "markdown",
   "metadata": {},
   "source": [
    "Q13. Use binary cross-entropy as the loss function, Adam optimizer, and include the metric ['accuracy'].\n",
    "Answer-\n",
    "# Compile the model\n",
    "model.compile(optimizer='adam', loss='binary_crossentropy', metrics=['accuracy'])\n"
   ]
  },
  {
   "cell_type": "markdown",
   "metadata": {},
   "source": [
    "Q14. Compile the model with the specified loss function, optimizer, and metrics.\n",
    "\n",
    "Answer-\n",
    "# Compile the model\n",
    "model.compile(optimizer='adam', loss='binary_crossentropy', metrics=['accuracy'])\n"
   ]
  },
  {
   "cell_type": "markdown",
   "metadata": {},
   "source": [
    "Q15. Fit the model to the data, incorporating the TensorBoard, Early Stopping, and ModelCheckpoint callbacks.\n",
    "Answer-\n",
    "# Fit the model\n",
    "history = model.fit(X_train_scaled, y_train, \n",
    "                    epochs=100, \n",
    "                    validation_data=(X_val_scaled, y_val),\n",
    "                    callbacks=[tensorboard_callback, early_stopping_callback, checkpoint_callback])\n"
   ]
  },
  {
   "cell_type": "markdown",
   "metadata": {},
   "source": [
    "Q16. Get the model's parameters.\n",
    "Answer-\n",
    "# Get model's parameters\n",
    "model_params = model.get_weights()\n"
   ]
  },
  {
   "cell_type": "markdown",
   "metadata": {},
   "source": [
    "Q17. Store the model's training history as a Pandas DataFrame.\n",
    "\n",
    "Answer-\n",
    "# Store training history\n",
    "history_df = pd.DataFrame(history.history)\n"
   ]
  },
  {
   "cell_type": "markdown",
   "metadata": {},
   "source": [
    "Q18. Plot the model's training history.\n",
    "\n",
    "Answer-\n",
    "import matplotlib.pyplot as plt\n",
    "\n",
    "# Plot training history\n",
    "plt.figure(figsize=(12, 6))\n",
    "plt.plot(history_df['accuracy'], label='accuracy')\n",
    "plt.plot(history_df['val_accuracy'], label='val_accuracy')\n",
    "plt.plot(history_df['loss'], label='loss')\n",
    "plt.plot(history_df['val_loss'], label='val_loss')\n",
    "plt.xlabel('Epochs')\n",
    "plt.ylabel('Metrics')\n",
    "plt.legend()\n",
    "plt.show()\n"
   ]
  },
  {
   "cell_type": "markdown",
   "metadata": {},
   "source": [
    "Q19. Evaluate the model's performance using the test data.\n",
    "answer--\n",
    "# Evaluate the model\n",
    "test_loss, test_accuracy = model.evaluate(X_test_scaled, y_test)\n",
    "print(\"Test Loss:\", test_loss)\n",
    "print(\"Test Accuracy:\", test_accuracy)\n"
   ]
  }
 ],
 "metadata": {
  "language_info": {
   "name": "python"
  }
 },
 "nbformat": 4,
 "nbformat_minor": 2
}

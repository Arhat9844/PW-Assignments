{
 "cells": [
  {
   "cell_type": "markdown",
   "metadata": {},
   "source": [
    "Q1--\n",
    "ANSWER----\n",
    "SQL Databases:\n",
    "\n",
    "SQL databases are based on the relational model, where data is structured into tables with rows and columns.\n",
    "They use SQL as the standard language for querying and manipulating data.\n",
    "Examples of SQL databases include MySQL, PostgreSQL, Oracle, SQL Server, and SQLite.\n",
    "SQL databases are typically good for applications requiring complex queries, transactions, and strong consistency.\n",
    "NoSQL Databases:\n",
    "\n",
    "NoSQL databases are designed to handle large volumes of unstructured or semi-structured data.\n",
    "They offer flexible schemas, allowing for easier and faster development as data requirements evolve.\n",
    "NoSQL databases use various data models, including key-value, document, columnar, and graph.\n",
    "Examples of NoSQL databases include MongoDB, Cassandra, Couchbase, Redis, and Neo4j.\n",
    "NoSQL databases are often chosen for applications needing scalability, high availability, and fast performance, such as web applications, real-time analytics, and IoT (Internet of Things) platforms."
   ]
  },
  {
   "cell_type": "markdown",
   "metadata": {},
   "source": [
    "Q2--\n",
    "ANSWER--\n",
    "DDL stands for Data Definition Language, which is a subset of SQL used to define the structure and organization of a database. DDL statements are responsible for defining and modifying the schema or structure of database objects such as tables, indexes, views, and constraints.\n",
    "Example--"
   ]
  },
  {
   "cell_type": "code",
   "execution_count": null,
   "metadata": {},
   "outputs": [],
   "source": [
    "#create table--\n",
    "CREATE TABLE employees (\n",
    "    employee_id INT PRIMARY KEY,\n",
    "    name VARCHAR(100),\n",
    "    department VARCHAR(50)\n",
    ");\n",
    "#Drop table--\n",
    "DROP TABLE employees;\n",
    "\n",
    "#Alter\n",
    "ALTER TABLE employees\n",
    "ADD COLUMN email VARCHAR(255);\n",
    "\n",
    "#TRUNCATE--\n",
    "TRUNCATE TABLE employees;\n",
    "\n",
    "\n",
    "\n",
    "\n"
   ]
  },
  {
   "cell_type": "markdown",
   "metadata": {},
   "source": [
    "Q3--\n",
    "ANSWER--\n",
    "DML stands for Data Manipulation Language, which is a subset of SQL used to manipulate data within the database. DML statements are responsible for performing operations such as inserting, updating, deleting, and retrieving data from tables."
   ]
  },
  {
   "cell_type": "code",
   "execution_count": 1,
   "metadata": {},
   "outputs": [
    {
     "ename": "SyntaxError",
     "evalue": "invalid syntax (591623918.py, line 2)",
     "output_type": "error",
     "traceback": [
      "\u001b[1;36m  Cell \u001b[1;32mIn[1], line 2\u001b[1;36m\u001b[0m\n\u001b[1;33m    INSERT INTO employees (employee_id, name, department, email)\u001b[0m\n\u001b[1;37m           ^\u001b[0m\n\u001b[1;31mSyntaxError\u001b[0m\u001b[1;31m:\u001b[0m invalid syntax\n"
     ]
    }
   ],
   "source": [
    "#INSERT\n",
    "INSERT INTO employees (employee_id, name, department, email)\n",
    "VALUES (1, 'John Doe', 'Engineering', 'john.doe@example.com');\n",
    "\n",
    "#UPDATE\n",
    "UPDATE employees\n",
    "SET department = 'Marketing'\n",
    "WHERE employee_id = 1;\n",
    "\n",
    "#DELETE\n",
    "DELETE FROM employees\n",
    "WHERE employee_id = 1;\n",
    "\n",
    "\n",
    "\n",
    "\n",
    "\n"
   ]
  },
  {
   "cell_type": "markdown",
   "metadata": {},
   "source": [
    "Q4--\n",
    "ANSWER--\n",
    "DQL stands for Data Query Language, which is a subset of SQL used to retrieve data from a database. The most common and fundamental DQL statement is SELECT, which is used to query and fetch data from one or more tables.\n",
    "EXAMPLE--\n",
    "SELECT column1, column2, ...\n",
    "FROM table_name\n",
    "WHERE condition;\n"
   ]
  },
  {
   "cell_type": "markdown",
   "metadata": {},
   "source": [
    "Q5--\n",
    "ANSWER--\n",
    "Primary Key and Foreign Key are two important concepts in relational database design that establish relationships between tables and ensure data integrity.\n",
    "\n",
    "Primary Key (PK):\n",
    "\n",
    "A Primary Key is a column or set of columns that uniquely identifies each row in a table.\n",
    "It must contain unique values and cannot contain NULL values.\n",
    "By defining a Primary Key, you ensure that each row in the table can be uniquely identified.\n",
    "Primary Keys are typically created using a single column, but they can also be composite keys consisting of multiple columns.\n",
    "Example: In a table named \"employees,\" the \"employee_id\" column can be designated as the Primary Key because each employee should have a unique identifier.\n",
    "Foreign Key (FK):\n",
    "\n",
    "A Foreign Key is a column or set of columns in a table that establishes a link or relationship with a Primary Key in another table.\n",
    "It represents a reference to the Primary Key of another table.\n",
    "Foreign Keys help enforce referential integrity by ensuring that values in the referencing column(s) match values in the referenced column(s).\n",
    "\n",
    "Example: In a table named \"orders,\" if each order is associated with a specific employee from the \"employees\" table, you can have a Foreign Key named \"employee_id\" in the \"orders\" table that references the Primary Key \"employee_id\" in the \"employees\" table.\n"
   ]
  },
  {
   "cell_type": "markdown",
   "metadata": {},
   "source": [
    "Q6--\n",
    "ANSWER--\n",
    "import mysql.connector\n",
    "\n",
    "# Establish a connection to the MySQL database\n",
    "connection = mysql.connector.connect(\n",
    "    host=\"your_host\",\n",
    "    user=\"your_username\",\n",
    "    password=\"your_password\",\n",
    "    database=\"your_database\"\n",
    ")\n",
    "\n",
    "# Create a cursor object using the cursor() method\n",
    "cursor = connection.cursor()\n",
    "\n",
    "# Now, let's execute some SQL queries using the execute() method\n",
    "try:\n",
    "    # Create a new table\n",
    "    create_table_query = \"\"\"\n",
    "    CREATE TABLE IF NOT EXISTS employees (\n",
    "        employee_id INT AUTO_INCREMENT PRIMARY KEY,\n",
    "        name VARCHAR(100),\n",
    "        department VARCHAR(50),\n",
    "        salary DECIMAL(10, 2)\n",
    "    )\n",
    "    \"\"\"\n",
    "    cursor.execute(create_table_query)\n",
    "    print(\"Table 'employees' created successfully\")\n",
    "\n",
    "    # Inserting data into the table\n",
    "    insert_query = \"\"\"\n",
    "    INSERT INTO employees (name, department, salary) \n",
    "    VALUES (%s, %s, %s)\n",
    "    \"\"\"\n",
    "\n",
    "\n"
   ]
  },
  {
   "cell_type": "code",
   "execution_count": null,
   "metadata": {},
   "outputs": [],
   "source": [
    "In SQL, the order of execution of clauses in a query follows a specific sequence:\n",
    "\n",
    "FROM: This clause specifies the tables from which data will be retrieved. It is the first clause evaluated in a query.\n",
    "\n",
    "WHERE: The WHERE clause filters the rows returned by the FROM clause based on specified conditions. It is applied after the FROM clause.\n",
    "\n",
    "GROUP BY: The GROUP BY clause is used to group rows that have the same values into summary rows, typically for use with aggregate functions like SUM, COUNT, AVG, etc. It is evaluated after the WHERE clause.\n",
    "\n",
    "HAVING: The HAVING clause filters the grouped rows resulting from the GROUP BY clause based on specified conditions. It is applied after the GROUP BY clause.\n",
    "\n",
    "SELECT: The SELECT clause retrieves the specific columns or expressions from the resulting rows after the WHERE and GROUP BY clauses have been applied.\n",
    "\n",
    "ORDER BY: The ORDER BY clause sorts the rows returned by the SELECT statement based on specified columns or expressions. It is evaluated after the SELECT clause.\n",
    "\n",
    "LIMIT / OFFSET: These clauses are used to limit the number of rows returned by the query and specify an offset for starting the result set. They are applied after the ORDER BY clause.\n",
    "\n",
    "This sequence outlines the typical order of execution for SQL clauses in a query. However, not all clauses are mandatory in every query, and the actual execution order may vary based on the specific query and optimization strategies employed by the database engine.\n",
    "\n",
    "\n",
    "\n",
    "\n",
    "\n",
    "\n",
    "\n",
    "\n"
   ]
  }
 ],
 "metadata": {
  "kernelspec": {
   "display_name": "Python 3",
   "language": "python",
   "name": "python3"
  },
  "language_info": {
   "codemirror_mode": {
    "name": "ipython",
    "version": 3
   },
   "file_extension": ".py",
   "mimetype": "text/x-python",
   "name": "python",
   "nbconvert_exporter": "python",
   "pygments_lexer": "ipython3",
   "version": "3.10.4"
  }
 },
 "nbformat": 4,
 "nbformat_minor": 2
}

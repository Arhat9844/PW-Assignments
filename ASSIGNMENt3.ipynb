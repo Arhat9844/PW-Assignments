{
 "cells": [
  {
   "cell_type": "markdown",
   "metadata": {},
   "source": [
    "Q1.--\n",
    "ANSWER--\n",
    "In Python, the keyword used to create a function is def. Below is a Python function that returns a list of odd numbers in the range of 1 to 25:"
   ]
  },
  {
   "cell_type": "code",
   "execution_count": null,
   "metadata": {},
   "outputs": [],
   "source": [
    "def odd_numbers():\n",
    "    odd_nums = [num for num in range(1, 26) if num % 2 != 0]\n",
    "    return odd_nums\n",
    "\n",
    "# Test the function\n",
    "print(odd_numbers())\n"
   ]
  },
  {
   "cell_type": "markdown",
   "metadata": {},
   "source": [
    "Q2--\n",
    "ANSWER--\n",
    "*args and **kwargs are used in Python to allow a function to accept any number of positional arguments and keyword arguments, respectively.\n",
    "\n",
    "CODE--\n",
    "# Function using *args to accept any number of positional arguments\n",
    "def sum_all(*args):\n",
    "    total = 0\n",
    "    for num in args:\n",
    "        total += num\n",
    "    return total\n",
    "\n",
    "# Function using **kwargs to accept any number of keyword arguments\n",
    "def display_info(**kwargs):\n",
    "    for key, value in kwargs.items():\n",
    "        print(f\"{key}: {value}\")\n",
    "\n",
    "\n",
    "\n",
    "\n"
   ]
  },
  {
   "cell_type": "markdown",
   "metadata": {},
   "source": [
    "Q3--\n",
    "ANSWER--\n",
    "In Python, an iterator is an object that represents a stream of data. It implements two methods: __iter__() and __next__().\n",
    "\n",
    "CODE--\n",
    "# Initialize the iterator object\n",
    "my_list = [2, 4, 6, 8, 10, 12, 14, 16, 18, 20]\n",
    "iterator = iter(my_list)\n",
    "\n",
    "# Iteration using the __next__() method\n",
    "print(\"First five elements of the list:\")\n",
    "for _ in range(5):\n",
    "    print(next(iterator))\n"
   ]
  },
  {
   "cell_type": "markdown",
   "metadata": {},
   "source": [
    "Q4--\n",
    "Answer--\n",
    "A generator function in Python is a special type of function that allows you to generate a sequence of values lazily, one at a time, rather than producing them all at once and storing them in memory. Generator functions use the yield because Unlike return, which terminates the function and returns a single value, yield allows the function to produce a series of values over multiple calls, maintaining its state between each call.\n",
    "\n",
    "Code--\n",
    "def count_up_to(limit):\n",
    "    count = 1\n",
    "    while count <= limit:\n",
    "        yield count\n",
    "        count += 1\n",
    "\n",
    "# Using the generator function\n",
    "for num in count_up_to(5):\n",
    "    print(num)\n",
    "\n"
   ]
  },
  {
   "cell_type": "code",
   "execution_count": null,
   "metadata": {},
   "outputs": [],
   "source": [
    "'''Q5---\n",
    "answer--'''\n",
    "def generate_primes():\n",
    "    \"\"\"A generator function to generate prime numbers less than 1000.\"\"\"\n",
    "    primes = []\n",
    "    for num in range(2, 1000):\n",
    "        is_prime = True\n",
    "        for divisor in range(2, int(num ** 0.5) + 1):\n",
    "            if num % divisor == 0:\n",
    "                is_prime = False\n",
    "                break\n",
    "        if is_prime:\n",
    "            yield num\n",
    "\n",
    "# Using the generator function to print the first 20 prime numbers\n",
    "prime_generator = generate_primes()\n",
    "print(\"First 20 prime numbers less than 1000:\")\n",
    "for _ in range(20):\n",
    "    print(next(prime_generator))\n"
   ]
  },
  {
   "cell_type": "markdown",
   "metadata": {},
   "source": [
    "Q6--\n",
    "answer--"
   ]
  },
  {
   "cell_type": "code",
   "execution_count": null,
   "metadata": {},
   "outputs": [],
   "source": [
    "# Function to generate Fibonacci numbers\n",
    "def fibonacci(n):\n",
    "    fib_sequence = [0, 1]  # Initialize Fibonacci sequence with first two numbers\n",
    "    while len(fib_sequence) < n:\n",
    "        fib_sequence.append(fib_sequence[-1] + fib_sequence[-2])  # Generate next Fibonacci number\n",
    "    return fib_sequence\n",
    "\n",
    "# Print the first 10 Fibonacci numbers\n",
    "n = 10\n",
    "fib_numbers = fibonacci(n)\n",
    "print(\"The first 10 Fibonacci numbers are:\")\n",
    "for num in fib_numbers:\n",
    "    print(num)\n"
   ]
  },
  {
   "cell_type": "markdown",
   "metadata": {},
   "source": [
    "Q7--\n",
    "answer--"
   ]
  },
  {
   "cell_type": "code",
   "execution_count": null,
   "metadata": {},
   "outputs": [],
   "source": [
    "# Given string\n",
    "string = 'pwskills'\n",
    "\n",
    "# List comprehension with split() method to iterate through the string and remove duplicates\n",
    "output = [char for char in string if char not in string[string.index(char) + 1:].split()]\n",
    "\n",
    "print(output)\n"
   ]
  },
  {
   "cell_type": "markdown",
   "metadata": {},
   "source": [
    "Q8---\n",
    "Answer--"
   ]
  },
  {
   "cell_type": "code",
   "execution_count": null,
   "metadata": {},
   "outputs": [],
   "source": [
    "def is_palindrome(number):\n",
    "    # Convert the number to a string\n",
    "    num_str = str(number)\n",
    "    \n",
    "    # Initialize variables for indices\n",
    "    start = 0\n",
    "    end = len(num_str) - 1\n",
    "    \n",
    "    # Check if the number is a palindrome using a while loop\n",
    "    while start < end:\n",
    "        if num_str[start] != num_str[end]:\n",
    "            return False\n",
    "        start += 1\n",
    "        end -= 1\n",
    "    \n",
    "    return True\n",
    "\n",
    "# Input a number from the user\n",
    "num = int(input(\"Enter a number: \"))\n",
    "\n",
    "# Check if the number is a palindrome\n",
    "if is_palindrome(num):\n",
    "    print(f\"{num} is a palindrome.\")\n",
    "else:\n",
    "    print(f\"{num} is not a palindrome.\")\n"
   ]
  },
  {
   "cell_type": "markdown",
   "metadata": {},
   "source": [
    "Q9--\n",
    "Answer--"
   ]
  },
  {
   "cell_type": "code",
   "execution_count": null,
   "metadata": {},
   "outputs": [],
   "source": [
    "# List comprehension to generate odd numbers from 1 to 100\n",
    "odd_numbers = [num for num in range(1, 101) if num % 2 != 0]\n",
    "\n",
    "# Print the odd numbers\n",
    "print(\"Odd numbers from 1 to 100:\")\n",
    "print(odd_numbers)\n"
   ]
  }
 ],
 "metadata": {
  "language_info": {
   "name": "python"
  }
 },
 "nbformat": 4,
 "nbformat_minor": 2
}

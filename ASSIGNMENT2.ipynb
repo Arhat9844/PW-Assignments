{
 "cells": [
  {
   "attachments": {},
   "cell_type": "markdown",
   "metadata": {},
   "source": [
    "Q1\n",
    "ANS==\n",
    "To comment your code in Python, you can use the '#' symbol. Anything following the '#' symbol on a line is considered a comment and is ignored by the interpreter. \n",
    "Python supports two types of comments: single-line comments with symbol #  and multi-line comments write a code within enclosed within triple quotes (either single or double).\n",
    "there are two example==\n"
   ]
  },
  {
   "cell_type": "code",
   "execution_count": null,
   "metadata": {},
   "outputs": [],
   "source": [
    "#1 example\n",
    "#print(\"hello world\")\n",
    "#  print(\"hello\")     single line comment\n",
    "\n",
    "\"\"\"\n",
    "This is a multi-line comment in Python.\n",
    "It can span multiple lines and is enclosed within triple quotes.\n",
    "\"\"\"\n"
   ]
  },
  {
   "attachments": {},
   "cell_type": "markdown",
   "metadata": {},
   "source": [
    "q2==\n",
    "ans==\n",
    "In Python, variables are used to store values. They act as placeholders that can hold different types of data such as numbers, strings, lists, or objects. Variables allow you to manipulate and reference data throughout your program the data can be varies store into it so that these known as variable\n",
    "\n",
    "To declare and assign a value to a variable in Python, you simply choose a name for the variable and use the assignment operator '=' to assign a value to it. "
   ]
  },
  {
   "cell_type": "code",
   "execution_count": null,
   "metadata": {},
   "outputs": [],
   "source": [
    "# Variable declaration and assignment\n",
    "x = 10"
   ]
  },
  {
   "attachments": {},
   "cell_type": "markdown",
   "metadata": {},
   "source": [
    "Q3==\n",
    "ans==\n",
    "In Python, you can convert one data type into another using type conversion functions. Python provides several built-in functions for type conversion. flor example\n",
    "\n"
   ]
  },
  {
   "cell_type": "code",
   "execution_count": null,
   "metadata": {},
   "outputs": [],
   "source": [
    "x = 10\n",
    "x = str(x)\n",
    "print(x)  # Output: \"10\" and this is a string"
   ]
  },
  {
   "attachments": {},
   "cell_type": "markdown",
   "metadata": {},
   "source": [
    "Q4\n",
    "ans==\n",
    "## you can follow these steps to write and execute pyton file from command line\n",
    "1.Open a text editor or an integrated development environment (IDE) to write your Python script. Create a new file and save it with a .py extension. For example, you can save it as script.py.\n",
    "\n",
    "2.Write your Python code in the script file. \n",
    "3.Save the file after writing your code.\n",
    "\n",
    "4.Open a command prompt or terminal window on your computer.\n",
    "\n",
    "5.Navigate to the directory where you saved your Python script using the cd command.\n",
    "6.Once you are in the correct directory, you can execute the Python script by typing python followed by the script's filename. \n",
    "\n",
    "7.Press Enter, and the Python interpreter will execute the script. "
   ]
  },
  {
   "attachments": {},
   "cell_type": "markdown",
   "metadata": {},
   "source": [
    "Q5\n",
    "ans=="
   ]
  },
  {
   "cell_type": "code",
   "execution_count": 1,
   "metadata": {},
   "outputs": [
    {
     "name": "stdout",
     "output_type": "stream",
     "text": [
      "[2, 3]\n"
     ]
    }
   ],
   "source": [
    "my_list = [1, 2, 3, 4, 5]\n",
    "sub_list = my_list[1:3]\n",
    "print(sub_list)\n"
   ]
  },
  {
   "attachments": {},
   "cell_type": "markdown",
   "metadata": {},
   "source": [
    "Q6\n",
    "ans==\n",
    "1.In mathematics, a complex number is a number that consists of two parts: a real part and an imaginary part. It is written in the form a + bi, where a represents the real part, b represents the imaginary part, and i represents the imaginary unit (√(-1)).\n",
    "2.In Python, complex numbers can be represented by using the j or J suffix to denote the imaginary part. The real and imaginary parts are combined using the addition operator +.\n"
   ]
  },
  {
   "cell_type": "code",
   "execution_count": 11,
   "metadata": {},
   "outputs": [
    {
     "data": {
      "text/plain": [
       "(11-10j)"
      ]
     },
     "execution_count": 11,
     "metadata": {},
     "output_type": "execute_result"
    }
   ],
   "source": [
    "a = 3 + 2j\n",
    "b = 1 - 4j\n",
    "\n",
    "# Addition\n",
    "sum = a + b\n",
    "print(sum)  # Output: (4-2j)\n",
    "\n",
    "# Multiplication\n",
    "product = a * b\n",
    "print(product)  # Output: (11-10j)\n"
   ]
  },
  {
   "attachments": {},
   "cell_type": "markdown",
   "metadata": {},
   "source": [
    "Q7\n",
    "ans==\n",
    "The variable age is declared and assigned the value 25 using the assignment operator' ='.\n",
    "The variable name' age' can be any valid variable name you choose,but this can not be start with the number and special characters."
   ]
  },
  {
   "cell_type": "code",
   "execution_count": 8,
   "metadata": {},
   "outputs": [
    {
     "data": {
      "text/plain": [
       "25"
      ]
     },
     "execution_count": 8,
     "metadata": {},
     "output_type": "execute_result"
    }
   ],
   "source": [
    "age=25\n",
    "age"
   ]
  },
  {
   "attachments": {},
   "cell_type": "markdown",
   "metadata": {},
   "source": [
    "Q8\n",
    "ans==float"
   ]
  },
  {
   "cell_type": "code",
   "execution_count": 13,
   "metadata": {},
   "outputs": [
    {
     "data": {
      "text/plain": [
       "float"
      ]
     },
     "execution_count": 13,
     "metadata": {},
     "output_type": "execute_result"
    }
   ],
   "source": [
    "price=9.99\n",
    "type(price)"
   ]
  },
  {
   "attachments": {},
   "cell_type": "markdown",
   "metadata": {},
   "source": [
    "Q=9\n",
    "ans====="
   ]
  },
  {
   "cell_type": "code",
   "execution_count": 14,
   "metadata": {},
   "outputs": [
    {
     "data": {
      "text/plain": [
       "'Arhat Sambodhy'"
      ]
     },
     "execution_count": 14,
     "metadata": {},
     "output_type": "execute_result"
    }
   ],
   "source": [
    "name=\"Arhat Sambodhy\"\n",
    "name"
   ]
  },
  {
   "attachments": {},
   "cell_type": "markdown",
   "metadata": {},
   "source": [
    "Q10\n",
    "ans=="
   ]
  },
  {
   "cell_type": "code",
   "execution_count": 34,
   "metadata": {},
   "outputs": [
    {
     "name": "stdout",
     "output_type": "stream",
     "text": [
      "world\n"
     ]
    }
   ],
   "source": [
    "string = \"Hello world\"\n",
    "substring = string[6:11]\n",
    "print(substring)"
   ]
  },
  {
   "attachments": {},
   "cell_type": "markdown",
   "metadata": {},
   "source": [
    "Q==11\n",
    "ans=="
   ]
  },
  {
   "cell_type": "code",
   "execution_count": 41,
   "metadata": {},
   "outputs": [
    {
     "name": "stdout",
     "output_type": "stream",
     "text": [
      "True\n",
      "False\n"
     ]
    }
   ],
   "source": [
    "is_student=True \n",
    "print(is_student)\n",
    "\n",
    "\n",
    "is_student=False\n",
    "print(is_student)"
   ]
  }
 ],
 "metadata": {
  "kernelspec": {
   "display_name": "Python 3",
   "language": "python",
   "name": "python3"
  },
  "language_info": {
   "codemirror_mode": {
    "name": "ipython",
    "version": 3
   },
   "file_extension": ".py",
   "mimetype": "text/x-python",
   "name": "python",
   "nbconvert_exporter": "python",
   "pygments_lexer": "ipython3",
   "version": "3.10.4"
  },
  "orig_nbformat": 4
 },
 "nbformat": 4,
 "nbformat_minor": 2
}

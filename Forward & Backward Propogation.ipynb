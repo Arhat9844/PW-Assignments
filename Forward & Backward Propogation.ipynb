{
 "cells": [
  {
   "cell_type": "code",
   "execution_count": null,
   "metadata": {},
   "outputs": [],
   "source": []
  },
  {
   "cell_type": "markdown",
   "metadata": {},
   "source": [
    "Q1--\n",
    "Answer-\n",
    "Forward propagation in a neural network is the process of \"passing input data through the network layers to generate an output.\" Each layer's neurons apply weights to the input data, compute a weighted sum, add a bias, and pass the result through an activation function. This sequence continues from the input layer, through hidden layers, to the output layer. The primary purpose of forward propagation is to produce predictions or outputs based on the input data, which are then used to calculate the error during training. This error guides the backpropagation process to adjust weights and biases for better accuracy.\n"
   ]
  },
  {
   "cell_type": "markdown",
   "metadata": {},
   "source": [
    "Q2--\n",
    "Answer-\n",
    "In a single-layer feedforward neural network, forward propagation is mathematically implemented as follows: Each input vector \\( \\mathbf{x} \\) is multiplied by the weight vector \\( \\mathbf{w} \\) and summed with a bias term \\( b \\). The result is then passed through an activation function \\( f \\). Mathematically, the output \\( y \\) is computed as:\n",
    "\n",
    "\\[ y = f(\\mathbf{w} \\cdot \\mathbf{x} + b) \\]\n",
    "\n",
    "Here, \\( \\mathbf{w} \\cdot \\mathbf{x} \\) represents the dot product of the weight and input vectors. The activation function \\( f \\) introduces non-linearity, enabling the network to learn complex patterns.\n"
   ]
  },
  {
   "cell_type": "markdown",
   "metadata": {},
   "source": [
    "Q3--\n",
    "Answer-\n",
    "During forward propagation, activation functions are applied to the output of each neuron after the weighted sum and bias have been computed. These functions introduce non-linearity to the network, enabling it to learn complex patterns and representations. Common activation functions include:\n",
    "\n",
    "1. **Sigmoid**: \\( f(x) = \\frac{1}{1 + e^{-x}} \\)\n",
    "2. **ReLU (Rectified Linear Unit)**: \\( f(x) = \\max(0, x) \\)\n",
    "3. **Tanh**: \\( f(x) = \\tanh(x) \\)\n",
    "\n",
    "By transforming the linear combination of inputs, activation functions help the network capture intricate relationships within the data, making it possible to solve non-linear problems.\n"
   ]
  },
  {
   "cell_type": "markdown",
   "metadata": {},
   "source": [
    "Q5--\n",
    "Answer-\n",
    "In forward propagation, weights and biases play crucial roles in transforming the input data as it moves through the neural network:\n",
    "\n",
    "1. **Weights**: Each connection between neurons has an associated weight. Weights determine the importance of input features and adjust the strength of signals passing through the network. They are learned and updated during training to minimize the error in predictions.\n",
    "\n",
    "2. **Biases**: Biases are added to the weighted sum of inputs before applying the activation function. They allow the activation function to be shifted horizontally, providing the model with additional flexibility to fit the data accurately.\n",
    "\n",
    "Together, weights and biases enable the network to model complex patterns by adjusting the influence of each input feature.\n"
   ]
  },
  {
   "cell_type": "markdown",
   "metadata": {},
   "source": [
    "Q6--\n",
    "Answer-\n",
    "Backward propagation, or backpropagation, is a key process in training a neural network. Its purpose is to minimize the error between the network's predictions and the actual target values. This is achieved by adjusting the weights and biases in the network. During backpropagation, the error is computed at the output layer and then propagated backward through the network. Gradients of the error with respect to each weight and bias are calculated using the chain rule of calculus. These gradients are used to update the weights and biases through an optimization algorithm, such as gradient descent, to improve the network's performance.\n"
   ]
  },
  {
   "cell_type": "markdown",
   "metadata": {},
   "source": [
    "Q7--\n",
    "Answer-\n",
    "In a single-layer feedforward neural network, backward propagation involves the following mathematical steps:\n",
    "\n",
    "1. **Compute the Error**: Calculate the difference between the predicted output \\( y \\) and the actual target \\( t \\). For instance, using mean squared error (MSE):\n",
    "\\[ E = \\frac{1}{2} (t - y)^2 \\]\n",
    "\n",
    "2. **Calculate the Gradient**: Determine the gradient of the error with respect to each weight \\( w_i \\). Using the chain rule:\n",
    "\\[ \\frac{\\partial E}{\\partial w_i} = \\frac{\\partial E}{\\partial y} \\cdot \\frac{\\partial y}{\\partial z} \\cdot \\frac{\\partial z}{\\partial w_i} \\]\n",
    "where \\( z = \\mathbf{w} \\cdot \\mathbf{x} + b \\).\n",
    "\n",
    "3. **Update Weights and Biases**: Adjust the weights \\( w_i \\) and biases \\( b \\) using a learning rate \\( \\eta \\):\n",
    "\\[ w_i \\leftarrow w_i - \\eta \\frac{\\partial E}{\\partial w_i} \\]\n",
    "\\[ b \\leftarrow b - \\eta \\frac{\\partial E}{\\partial b} \\]\n",
    "\n",
    "These updates iteratively reduce the error, improving the network's performance.\n",
    "\n"
   ]
  },
  {
   "cell_type": "markdown",
   "metadata": {},
   "source": [
    "Q8--\n",
    "Answer-\n",
    "The chain rule is a fundamental concept in calculus used to compute the derivative of a composite function. It states that if a variable \\( z \\) depends on \\( y \\), and \\( y \\) depends on \\( x \\), then the derivative of \\( z \\) with respect to \\( x \\) is:\n",
    "\n",
    "\\[ \\frac{dz}{dx} = \\frac{dz}{dy} \\cdot \\frac{dy}{dx} \\]\n",
    "\n",
    "In backward propagation, the chain rule is applied to calculate the gradients of the loss function with respect to each weight and bias in the network. By decomposing the overall derivative into a product of simpler derivatives, the chain rule enables efficient computation of how each parameter affects the loss. This process involves:\n",
    "\n",
    "1. **Output Layer**: Compute the gradient of the loss with respect to the output.\n",
    "2. **Hidden Layers**: Propagate the gradient backward through each layer, applying the chain rule to account for each layer’s weights, biases, and activation functions.\n",
    "\n",
    "This allows the network to update its parameters in a way that minimizes the loss.\n"
   ]
  },
  {
   "cell_type": "markdown",
   "metadata": {},
   "source": [
    "Q9--\n",
    "Answer-During backward propagation, several challenges or issues can arise, including:\n",
    "\n",
    "1. **Vanishing Gradients**: Gradients can become very small, causing slow learning or making it difficult for the network to learn. This is common with deep networks using sigmoid or tanh activation functions.\n",
    "   - **Solution**: Use activation functions like ReLU, or techniques like batch normalization and gradient clipping.\n",
    "\n",
    "2. **Exploding Gradients**: Gradients can grow exponentially, leading to numerical instability and causing the model to diverge.\n",
    "   - **Solution**: Apply gradient clipping, use weight regularization, or choose proper weight initialization techniques.\n",
    "\n",
    "3. **Overfitting**: The model performs well on training data but poorly on validation/test data.\n",
    "   - **Solution**: Implement regularization methods (L1, L2), dropout, or use more training data.\n",
    "\n",
    "4. **Poor Convergence**: Slow or poor convergence to a local minimum.\n",
    "   - **Solution**: Use advanced optimization algorithms like Adam, RMSprop, or learning rate schedules.\n",
    "\n",
    "5. **Computational Efficiency**: High computational cost for large networks.\n",
    "   - **Solution**: Utilize hardware accelerations like GPUs, and optimize code for performance.\n",
    "\n",
    "Addressing these issues is crucial for efficient and effective training of neural networks.\n"
   ]
  }
 ],
 "metadata": {
  "language_info": {
   "name": "python"
  }
 },
 "nbformat": 4,
 "nbformat_minor": 2
}

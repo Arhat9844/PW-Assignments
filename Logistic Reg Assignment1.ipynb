{
 "cells": [
  {
   "cell_type": "markdown",
   "metadata": {},
   "source": [
    "Q1--\n",
    "ANSWER--Grid search CV optimizes a machine learning model's hyperparameters by exhaustively searching through a predefined parameter grid. It uses cross-validation to evaluate the performance of each combination, ensuring the selection of the best parameter set for improved accuracy and generalization, leading to a more robust and effective model."
   ]
  },
  {
   "cell_type": "markdown",
   "metadata": {},
   "source": [
    "Q2-\n",
    "answer--\n",
    "\n",
    "Grid search CV systematically explores all possible combinations in a specified parameter grid, ensuring the best set of hyperparameters is found, but it can be computationally expensive. Randomized search CV randomly samples a specified number of parameter combinations, offering a more efficient alternative, especially with large search spaces.\n",
    "\n",
    "When to choose one over the other:\n",
    "\n",
    "Grid Search CV: Choose when the parameter grid is small or you need exhaustive coverage for precise hyperparameter tuning.\n",
    "Randomized Search CV: Opt for it when dealing with large or complex parameter grids, as it is more computationally efficient and still likely to find good hyperparameter settings."
   ]
  },
  {
   "cell_type": "markdown",
   "metadata": {},
   "source": [
    "Q3-\n",
    "answer--\n",
    "Data leakage occurs when information from outside the training dataset is used to create the model, leading to overly optimistic performance estimates and poor generalization to new data. It is a problem because it results in a model that performs well on the training data but fails in real-world applications.\n",
    "\n",
    "Example:\n",
    "In a credit scoring model, if future payment information (e.g., whether a customer defaulted) is accidentally included in the training features, the model will learn to predict based on this leaked information rather than general patterns, making it useless for predicting future defaults."
   ]
  },
  {
   "cell_type": "markdown",
   "metadata": {},
   "source": [
    "Q4-\n",
    "answer--\n",
    "To prevent data leakage when building a machine learning model, you can follow these practices:\n",
    "\n",
    "Proper Data Splitting: Split your data into training, validation, and test sets before any preprocessing to ensure that future information does not influence the training process.\n",
    "\n",
    "Preprocessing Pipelines: Use consistent preprocessing pipelines on training and test data separately, applying all transformations (e.g., scaling, encoding) within cross-validation folds to prevent information from leaking across data splits.\n",
    "\n",
    "Feature Selection: Ensure that features used in the model are only from the training period and do not include information that would be unavailable at prediction time.\n",
    "\n",
    "Temporal Considerations: For time series data, use techniques like time-based splits or walk-forward validation to prevent future information from being used in training.\n",
    "\n",
    "Cross-Validation: Perform cross-validation in a way that respects the temporal or logical order of data, avoiding any form of shuffling that can cause leakage.\n",
    "\n",
    "Thorough Review: Carefully review the features and the data collection process to ensure no implicit leakage (e.g., derived features that unintentionally include future information)."
   ]
  },
  {
   "cell_type": "markdown",
   "metadata": {},
   "source": [
    "Q5-\n",
    "answer--\n",
    "A confusion matrix is a table used to evaluate the performance of a classification model. It displays the number of true positives, true negatives, false positives, and false negatives. This helps in understanding how well the model differentiates between classes, providing insights into accuracy, precision, recall, and F1 score, which are crucial for assessing the model's performance and identifying areas for improvement."
   ]
  },
  {
   "cell_type": "markdown",
   "metadata": {},
   "source": [
    "Q6-\n",
    "answer--In the context of a confusion matrix:\n",
    "\n",
    "Precision (Positive Predictive Value): Measures the proportion of true positive predictions among all positive predictions made by the model. It indicates how many of the predicted positive cases are actually positive.\n",
    "\n",
    "Precision =\n",
    "True Positives/True Positives+False Positives\n",
    "\n",
    "Recall (Sensitivity or True Positive Rate): Measures the proportion of true positive predictions among all actual positive cases. It indicates how many of the actual positive cases the model correctly identified.\n",
    "\n",
    "Recall =\n",
    "True Positives/True Positives+False Negative\n"
   ]
  },
  {
   "cell_type": "markdown",
   "metadata": {},
   "source": [
    "Q7-\n",
    "answer--To interpret a confusion matrix and determine the types of errors your model is making:\n",
    "\n",
    "False Positives (Type I Errors): Instances incorrectly predicted as positive.\n",
    "False Negatives (Type II Errors): Instances incorrectly predicted as negative.\n",
    "Analyze the counts in the corresponding cells to identify error patterns. High false positives indicate the model often misclassifies negatives as positives, while high false negatives suggest it frequently misses positives.\n"
   ]
  },
  {
   "cell_type": "markdown",
   "metadata": {},
   "source": [
    "Q8--\n",
    "Answer-Common metrics derived from a confusion matrix include:\n",
    "\n",
    "Accuracy: Proportion of correctly classified instances out of the total instances.\n",
    "\n",
    "Accuracy\n",
    "=True Positives+TrueNegatives/Total instances\n",
    " \n",
    "Precision: Proportion of true positive predictions among all positive predictions.\n",
    "\n",
    "Precision\n",
    "=\n",
    "True Positives/True Positives+False Positives\n",
    " \n",
    "Recall (Sensitivity): Proportion of true positive predictions among all actual positive instances.\n",
    "\n",
    "Recall\n",
    "=\n",
    "True Positives/True Positives+False Negative\n",
    "\n",
    " \n",
    "F1 Score: Harmonic mean of precision and recall, balancing the two.\n",
    "\n",
    "F1 Score\n",
    "=2*Precision*Recall/Precision+Recall\n",
    "\n",
    "Specificity (True Negative Rate): Proportion of true negative predictions among all actual negative instances.\n",
    "\n",
    "Specificity\n",
    "=\n",
    "True negative/True Positives+False Positives\n",
    "\n"
   ]
  },
  {
   "cell_type": "markdown",
   "metadata": {},
   "source": [
    "Q9--\n",
    "Answer--The accuracy of a model is calculated from the confusion matrix as the proportion of true positive and true negative predictions out of the total predictions. It reflects the overall correctness of the model:\n",
    "Accuracy\n",
    "=True Positives+TrueNegatives/Total instances"
   ]
  },
  {
   "cell_type": "markdown",
   "metadata": {},
   "source": [
    "Q10--\n",
    "Answer-\n",
    "\n",
    "A confusion matrix helps identify biases or limitations in a machine learning model by revealing patterns of misclassifications. Disproportionate false positives or false negatives across classes indicate bias towards certain classes. Additionally, disparities in precision or recall among classes highlight limitations in the model's ability to correctly classify certain types of instances.."
   ]
  }
 ],
 "metadata": {
  "language_info": {
   "name": "python"
  }
 },
 "nbformat": 4,
 "nbformat_minor": 2
}

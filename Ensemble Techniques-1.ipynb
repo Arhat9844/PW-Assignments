{
 "cells": [
  {
   "cell_type": "markdown",
   "metadata": {},
   "source": [
    "Q1==\n",
    "Answer==\n",
    "\n",
    "In machine learning, an ensemble technique combines multiple models to improve performance, accuracy, and robustness over individual models. It leverages the strengths and mitigates the weaknesses of each model. Common ensemble methods include bagging (e.g., Random Forest), boosting (e.g., AdaBoost), and stacking. These techniques reduce overfitting, enhance generalization, and provide more reliable predictions by aggregating the results from diverse models.\n",
    "\n",
    "Here's how you can quickly visualize an ensemble technique in Python using VS Code:\n",
    "\n",
    "from sklearn.ensemble import RandomForestClassifier\n",
    "from sklearn.datasets import load_iris\n",
    "from sklearn.model_selection import train_test_split\n",
    "from sklearn.metrics import accuracy_score\n",
    "\n",
    "# Load dataset\n",
    "data = load_iris()\n",
    "X, y = data.data, data.target\n",
    "\n",
    "# Split dataset\n",
    "X_train, X_test, y_train, y_test = train_test_split(X, y, test_size=0.3, random_state=42)\n",
    "\n",
    "# Train model\n",
    "model = RandomForestClassifier(n_estimators=100, random_state=42)\n",
    "model.fit(X_train, y_train)\n",
    "\n",
    "# Predict and evaluate\n",
    "predictions = model.predict(X_test)\n",
    "accuracy = accuracy_score(y_test, predictions)\n",
    "print(f'Accuracy: {accuracy}')\n",
    "\n"
   ]
  },
  {
   "cell_type": "code",
   "execution_count": 1,
   "metadata": {},
   "outputs": [
    {
     "name": "stdout",
     "output_type": "stream",
     "text": [
      "Accuracy: 1.0\n"
     ]
    }
   ],
   "source": []
  },
  {
   "cell_type": "markdown",
   "metadata": {},
   "source": [
    "Q2==\n",
    "Answer==Ensemble techniques are used in machine learning to enhance model performance, accuracy, and robustness. By combining predictions from multiple models, ensembles can reduce overfitting, improve generalization, and handle diverse data patterns more effectively. This approach leverages the strengths and mitigates the weaknesses of individual models, leading to more reliable and robust predictions."
   ]
  },
  {
   "cell_type": "markdown",
   "metadata": {},
   "source": [
    "Q3==\n",
    "Answer==\n",
    "Bagging, or Bootstrap Aggregating, is an ensemble technique in machine learning that improves model stability and accuracy.''' It involves training multiple models on different random subsets of the training data and then aggregating their predictions, '''typically by averaging for regression or voting for classification. This approach reduces variance and overfitting, leading to more robust predictions.\n",
    "\n",
    "Here’s a brief example in Python for VS Code:\n",
    "from sklearn.ensemble import BaggingClassifier\n",
    "from sklearn.tree import DecisionTreeClassifier\n",
    "from sklearn.datasets import load_iris\n",
    "from sklearn.model_selection import train_test_split\n",
    "from sklearn.metrics import accuracy_score\n",
    "\n",
    "# Load dataset\n",
    "data = load_iris()\n",
    "X, y = data.data, data.target\n",
    "\n",
    "# Split dataset\n",
    "X_train, X_test, y_train, y_test = train_test_split(X, y, test_size=0.3, random_state=42)\n",
    "\n",
    "# Train model\n",
    "model = BaggingClassifier(base_estimator=DecisionTreeClassifier(), n_estimators=100, random_state=42)\n",
    "model.fit(X_train, y_train)\n",
    "\n",
    "# Predict and evaluate\n",
    "predictions = model.predict(X_test)\n",
    "accuracy = accuracy_score(y_test, predictions)\n",
    "print(f'Accuracy: {accuracy}')\n"
   ]
  },
  {
   "cell_type": "markdown",
   "metadata": {},
   "source": [
    "Q4==\n",
    "Answer==Boosting is an ensemble technique in machine learning that improves model performance by sequentially training models. Each new model focuses on correcting the errors made by the previous ones. This iterative process reduces bias and enhances accuracy. Common boosting algorithms include AdaBoost, Gradient Boosting, and XGBoost. Boosting builds a strong predictor from multiple weak learners, leading to improved predictions.\n",
    "\n",
    "Here’s a brief example in Python for VS Code:\n",
    "from sklearn.ensemble import AdaBoostClassifier\n",
    "from sklearn.datasets import load_iris\n",
    "from sklearn.model_selection import train_test_split\n",
    "from sklearn.metrics import accuracy_score\n",
    "\n",
    "# Load dataset\n",
    "data = load_iris()\n",
    "X, y = data.data, data.target\n",
    "\n",
    "# Split dataset\n",
    "X_train, X_test, y_train, y_test = train_test_split(X, y, test_size=0.3, random_state=42)\n",
    "\n",
    "# Train model\n",
    "model = AdaBoostClassifier(n_estimators=100, random_state=42)\n",
    "model.fit(X_train, y_train)\n",
    "\n",
    "# Predict and evaluate\n",
    "predictions = model.predict(X_test)\n",
    "accuracy = accuracy_score(y_test, predictions)\n",
    "print(f'Accuracy: {accuracy}')\n"
   ]
  },
  {
   "cell_type": "markdown",
   "metadata": {},
   "source": [
    "Q5==\n",
    "Answer==Ensemble techniques in machine learning offer several benefits:\n",
    "\n",
    "Improved Accuracy: Combining multiple models generally leads to higher predictive accuracy compared to individual models.\n",
    "Reduced Overfitting: Aggregating predictions helps in minimizing the risk of overfitting to training data.\n",
    "Robustness: Ensemble methods are more robust to errors and anomalies, leading to more reliable predictions.\n",
    "Diverse Model Strengths: They leverage the strengths of different models to compensate for individual weaknesses.\n",
    "Enhanced Generalization: Ensembles provide better generalization to new, unseen data, improving model performance on test data."
   ]
  },
  {
   "cell_type": "markdown",
   "metadata": {},
   "source": [
    "Q6==\n",
    "Answer==\n",
    "Ensemble techniques are often better than individual models as they enhance accuracy and robustness. However, they are not always superior. Simpler models may perform adequately on certain tasks, and ensembles can be computationally expensive and harder to interpret."
   ]
  },
  {
   "cell_type": "markdown",
   "metadata": {},
   "source": [
    "Q7==\n",
    "Answer====\n",
    "The confidence interval using bootstrap is calculated by resampling the data with replacement multiple times to create many bootstrap samples, then computing the statistic of interest for each sample. The confidence interval is derived from the distribution of these bootstrap statistics.\n",
    "\n",
    "Here’s an example in Python for calculating a bootstrap confidence interval:\n",
    "\n",
    "import numpy as np\n",
    "\n",
    "# Example data\n",
    "data = np.array([1, 2, 3, 4, 5, 6, 7, 8, 9])\n",
    "\n",
    "# Function to compute the statistic (e.g., mean)\n",
    "def compute_statistic(data):\n",
    "    return np.mean(data)\n",
    "\n",
    "# Number of bootstrap samples\n",
    "n_bootstraps = 1000\n",
    "\n",
    "# Bootstrap samples\n",
    "bootstrap_samples = np.random.choice(data, (n_bootstraps, len(data)), replace=True)\n",
    "\n",
    "# Compute the statistic for each bootstrap sample\n",
    "bootstrap_statistics = np.array([compute_statistic(sample) for sample in bootstrap_samples])\n",
    "\n",
    "# Calculate the confidence interval\n",
    "confidence_level = 0.95\n",
    "lower_percentile = (1 - confidence_level) / 2\n",
    "upper_percentile = 1 - lower_percentile\n",
    "confidence_interval = np.percentile(bootstrap_statistics, [lower_percentile * 100, upper_percentile * 100])\n",
    "\n",
    "print(f'Confidence Interval: {confidence_interval}')\n",
    "\n"
   ]
  },
  {
   "cell_type": "markdown",
   "metadata": {},
   "source": [
    "Q8==\n",
    "AnswerBootstrap is a resampling technique used to estimate statistics on a population by sampling a dataset with replacement. It helps in assessing the variability of a statistic (e.g., mean, variance) and constructing confidence intervals.\n",
    "\n",
    "How Bootstrap Works:\n",
    "Bootstrap works by repeatedly resampling the dataset with replacement to create many \"bootstrap samples.\" Each sample is the same size as the original dataset. The statistic of interest is calculated for each sample, and the distribution of these statistics is used to estimate the confidence interval.\n",
    "\n",
    "Steps Involved in Bootstrap:\n",
    "Original Sample: Start with a dataset of size \n",
    "𝑛\n",
    "n.\n",
    "Resampling: Generate multiple bootstrap samples by randomly sampling the original dataset with replacement. Each bootstrap sample is of size \n",
    "𝑛\n",
    "n.\n",
    "Statistic Calculation: Compute the statistic of interest (e.g., mean, variance) for each bootstrap sample.\n",
    "Distribution of Statistics: Collect the statistics from all bootstrap samples to form a distribution.\n",
    "Confidence Interval: Determine the confidence interval from the distribution of bootstrap statistics, typically by finding the appropriate percentiles (e.g., 2.5th and 97.5th percentiles for a 95% confidence interval).\n",
    "Example in Python:\n",
    "import numpy as np\n",
    "\n",
    "# Example data\n",
    "data = np.array([1, 2, 3, 4, 5, 6, 7, 8, 9])\n",
    "\n",
    "# Function to compute the statistic (e.g., mean)\n",
    "def compute_statistic(data):\n",
    "    return np.mean(data)\n",
    "\n",
    "# Number of bootstrap samples\n",
    "n_bootstraps = 1000\n",
    "\n",
    "# Generate bootstrap samples and compute the statistic\n",
    "bootstrap_statistics = np.array([compute_statistic(np.random.choice(data, len(data), replace=True)) for _ in range(n_bootstraps)])\n",
    "\n",
    "# Calculate the confidence interval\n",
    "confidence_level = 0.95\n",
    "lower_percentile = (1 - confidence_level) / 2\n",
    "upper_percentile = 1 - lower_percentile\n",
    "confidence_interval = np.percentile(bootstrap_statistics, [lower_percentile * 100, upper_percentile * 100])\n",
    "\n",
    "print(f'Confidence Interval: {confidence_interval}')\n"
   ]
  },
  {
   "cell_type": "markdown",
   "metadata": {},
   "source": [
    "Q5==\n",
    "Answer==\n",
    "To estimate the 95% confidence interval for the population mean height using bootstrap, we will follow these steps:\n",
    "\n",
    "Generate a large number of bootstrap samples from the original sample.\n",
    "Calculate the mean height for each bootstrap sample.\n",
    "Determine the 2.5th and 97.5th percentiles of the bootstrap means to obtain the 95% confidence interval.\n",
    "Here's how you can do it in Python:\n",
    "import numpy as np\n",
    "\n",
    "# Given data\n",
    "mean_height = 15\n",
    "std_dev_height = 2\n",
    "sample_size = 50\n",
    "\n",
    "# Generate the original sample data based on the given mean and standard deviation\n",
    "original_sample = np.random.normal(mean_height, std_dev_height, sample_size)\n",
    "\n",
    "# Function to compute the mean\n",
    "def compute_mean(data):\n",
    "    return np.mean(data)\n",
    "\n",
    "# Number of bootstrap samples\n",
    "n_bootstraps = 1000\n",
    "\n",
    "# Generate bootstrap samples and compute the mean for each sample\n",
    "bootstrap_means = np.array([compute_mean(np.random.choice(original_sample, sample_size, replace=True)) for _ in range(n_bootstraps)])\n",
    "\n",
    "# Calculate the 95% confidence interval\n",
    "confidence_level = 0.95\n",
    "lower_percentile = (1 - confidence_level) / 2\n",
    "upper_percentile = 1 - lower_percentile\n",
    "confidence_interval = np.percentile(bootstrap_means, [lower_percentile * 100, upper_percentile * 100])\n",
    "\n",
    "print(f'95% Confidence Interval for the mean height: {confidence_interval}')\n",
    "\n"
   ]
  },
  {
   "cell_type": "markdown",
   "metadata": {},
   "source": []
  },
  {
   "cell_type": "markdown",
   "metadata": {},
   "source": []
  },
  {
   "cell_type": "markdown",
   "metadata": {},
   "source": []
  },
  {
   "cell_type": "markdown",
   "metadata": {},
   "source": []
  },
  {
   "cell_type": "markdown",
   "metadata": {},
   "source": []
  },
  {
   "cell_type": "markdown",
   "metadata": {},
   "source": []
  }
 ],
 "metadata": {
  "kernelspec": {
   "display_name": "Python 3",
   "language": "python",
   "name": "python3"
  },
  "language_info": {
   "codemirror_mode": {
    "name": "ipython",
    "version": 3
   },
   "file_extension": ".py",
   "mimetype": "text/x-python",
   "name": "python",
   "nbconvert_exporter": "python",
   "pygments_lexer": "ipython3",
   "version": "3.10.4"
  }
 },
 "nbformat": 4,
 "nbformat_minor": 2
}
